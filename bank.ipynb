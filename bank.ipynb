{
 "cells": [
  {
   "cell_type": "code",
   "execution_count": 10,
   "id": "911e78d8-f96d-4503-9939-ec9f94d7196a",
   "metadata": {},
   "outputs": [
    {
     "name": "stdout",
     "output_type": "stream",
     "text": [
      "Welcome Banking\n"
     ]
    }
   ],
   "source": [
    "print(\"Welcome Banking\")\n",
    "import pymysql as ms\n",
    "def accountCreation():\n",
    "    # acNumCheck=False\n",
    "    import random as r\n",
    "    username = input(\"Enter Name : \")\n",
    "    acNum = r.randrange(10000,99999)\n",
    "    # conn = ms.connect(host=\"localhost\",user=\"root\",password=\"\",database=\"bankUserdetails\")\n",
    "    # mycursor = conn.cursor()\n",
    "    # mycursor.execute(\"select * from userdetails;\")\n",
    "    # data = mycursor.fetchall()\n",
    "    # # for i in data:\n",
    "    # #     print(acNum and i[1])\n",
    "    # #     if acNum != i[1]:\n",
    "    # #         acNumCheck=True\n",
    "    # conn.close()\n",
    "    while True:\n",
    "        try:    \n",
    "            pin = int(input(\"Enter Pin : \"))\n",
    "            break\n",
    "        except ValueError as VE:\n",
    "            print(\"Enter Pin In Numeric\")\n",
    "    phone = input(\"Enter Phone Number : \")\n",
    "    try:\n",
    "        print(username,acNum,pin,phone)\n",
    "        conn = ms.connect(host=\"localhost\",user=\"root\",password=\"\",database=\"bankUserdetails\")\n",
    "        mycursor = conn.cursor()\n",
    "        query = \"insert into userdetails() values(%s,%s,%s,%s);\"\n",
    "        query1 = f\"CREATE TABLE `{username}{acNum}` (accountnumber INT,credit FLOAT,debit FLOAT,balance FLOAT,message varchar(255),timing TIMESTAMP DEFAULT CURRENT_TIMESTAMP,FOREIGN KEY (accountnumber) REFERENCES userdetails(accountnumber));\"\n",
    "        query2 = f\"insert into `{username}{acNum}`(accountnumber,credit,debit,balance,message) values({acNum},0,0,0,'Account Created Successfully')\"\n",
    "        # def newTab(query1,query2):\n",
    "        #     mycursor.execute(query1)\n",
    "        #     mycursor.execute(query2)\n",
    "        # newTab(query1,query2)\n",
    "        value=(username,acNum,pin,phone)\n",
    "        # if acNumCheck == True:\n",
    "        mycursor.execute(query,value)\n",
    "        mycursor.execute(query1)\n",
    "        mycursor.execute(query2)\n",
    "        # else:\n",
    "        #     print(\"please Enter One More Time\")\n",
    "        #     accountCreation()\n",
    "        print(f\"welcome {username}, Your Account Number is {acNum}\")\n",
    "        conn.commit()\n",
    "        conn.close()\n",
    "    except Exception as error:\n",
    "        print(error)\n",
    "        print(\"Sorry To Intrept\")\n",
    "        accountCreation()"
   ]
  },
  {
   "cell_type": "code",
   "execution_count": 11,
   "id": "054bd3bb-0792-46db-b366-4d94862e972d",
   "metadata": {},
   "outputs": [],
   "source": [
    "def forgetAc():\n",
    "    fPhoneNumber = input(\"Enter Mobile Number : \")\n",
    "    fPin = int(input(\"Enter Pin : \"))\n",
    "    conn = ms.connect(host=\"localhost\",user=\"root\",password=\"\",database=\"bankUserdetails\")\n",
    "    mycursor = conn.cursor()\n",
    "    mycursor.execute(\"select * from userdetails;\")\n",
    "    data = mycursor.fetchall()\n",
    "    for i in data:\n",
    "        # print(i[3])\n",
    "        # print(type(fPhoneNumber))\n",
    "        # print(fPhoneNumber)\n",
    "        if(i[3]==fPhoneNumber):\n",
    "              # print(\"phone num match\")\n",
    "            # print(type(i[2]))\n",
    "            if(i[2]==fPin):\n",
    "                 # print(\"pin match\")\n",
    "                 print(f\"Your Account Number is {i[1]}.\")\n",
    "                 main()\n",
    "                    \n",
    "    conn.close()"
   ]
  },
  {
   "cell_type": "code",
   "execution_count": 12,
   "id": "f4abcb6a-3e38-4c1b-ac52-afe488582243",
   "metadata": {},
   "outputs": [],
   "source": [
    "def forgetPin():\n",
    "    fPhoneNumber = input(\"Enter Mobile Number : \")\n",
    "    fac = int(input(\"Enter Account Number : \"))\n",
    "    conn = ms.connect(host=\"localhost\",user=\"root\",password=\"\",database=\"bankUserdetails\")\n",
    "    mycursor = conn.cursor()\n",
    "    mycursor.execute(\"select * from userdetails;\")\n",
    "    data = mycursor.fetchall()\n",
    "    for i in data:\n",
    "        # print(i[3])\n",
    "        # print(type(fPhoneNumber))\n",
    "        # print(fPhoneNumber)\n",
    "        if(i[3]==fPhoneNumber):\n",
    "            # print(\"phone num match\")\n",
    "            # print(type(i[2]))\n",
    "             if(i[1]==fac):\n",
    "                  # print(\"pin match\")\n",
    "                print(f\"Your Pin is {i[2]}.\")\n",
    "                main()\n",
    "                    \n",
    "    conn.close()"
   ]
  },
  {
   "cell_type": "code",
   "execution_count": 13,
   "id": "5ffed9b4-d055-4666-b03b-b89db08ccad7",
   "metadata": {},
   "outputs": [],
   "source": [
    "def loginCheckBalance(username,acNum,conn,mycursor):\n",
    "    resultBalance = f\"select balance from `{username}{acNum}` order by timing desc limit 1\"\n",
    "    mycursor.execute(resultBalance)\n",
    "    retriveBalance = mycursor.fetchone()\n",
    "    currentBalance = retriveBalance[0]\n",
    "    print(f\"You Have {currentBalance}Rupees.\")"
   ]
  },
  {
   "cell_type": "code",
   "execution_count": 14,
   "id": "4aa0938a-a7b2-47f5-883a-1a6564696f6e",
   "metadata": {},
   "outputs": [],
   "source": [
    "def afterLogin(username, acNum, conn, mycursor):\n",
    "    print(\"\\n--------------Login Successfully----------------\")\n",
    "    while True:\n",
    "        \n",
    "        print(\"\"\"\n",
    "        1. Credit Money\n",
    "        2. Debit Money\n",
    "        3. Check Balance\n",
    "        4. Transfer Money\n",
    "        5. Show Transaction\n",
    "        6. exit\"\"\")\n",
    "        ch = int(input(\"Enter Value : \"))\n",
    "        if ch==1:\n",
    "            loginCredit(username,acNum,conn,mycursor)\n",
    "        elif ch==2:\n",
    "            loginDebit(username,acNum,conn,mycursor)\n",
    "        elif ch==3:\n",
    "            loginCheckBalance(username,acNum,conn,mycursor)\n",
    "        elif ch==4:\n",
    "            loginTransferMoney(username,acNum,conn,mycursor)\n",
    "        elif ch==5:\n",
    "            loginTransaction(username,acNum,conn,mycursor)\n",
    "        elif ch==6:\n",
    "            break"
   ]
  },
  {
   "cell_type": "code",
   "execution_count": 23,
   "id": "0e70d150-b018-4d31-a73a-c4d9c5fd72d5",
   "metadata": {},
   "outputs": [],
   "source": [
    "def login():\n",
    "    conn = ms.connect(host=\"localhost\",user=\"root\",password=\"\",database=\"bankUserdetails\")\n",
    "    mycursor = conn.cursor()\n",
    "    loginAcNum = int(input(\"Enter Your Account Number : \"))\n",
    "\n",
    "    checkReport = checkAccountAvailablity(loginAcNum)\n",
    "    if checkReport != False:\n",
    "        loginPin = int(input(\"Enter Your Pin\"))\n",
    "        mycursor.execute(\"select * from userdetails;\")\n",
    "        data = mycursor.fetchall()\n",
    "        for i in data:\n",
    "            if(loginAcNum == i[1]):\n",
    "                if(loginPin==i[2]):\n",
    "                    # print(\"login successfully\")\n",
    "                    # loginCredit()\n",
    "                    afterLogin(i[0], i[1], conn, mycursor)                \n",
    "                    # loginCredit()\n",
    "                else:\n",
    "                    print(\"Worng Entry\")\n",
    "        conn.close()\n"
   ]
  },
  {
   "cell_type": "code",
   "execution_count": 24,
   "id": "3c2002ea-ff1f-4030-b5ae-256915dc8161",
   "metadata": {},
   "outputs": [],
   "source": [
    "def loginCredit(username,acNum,conn,mycursor):\n",
    "    credit = float(input(\"Enter Money You Want To Credit : \"))\n",
    "    resultBalance = f\"select balance from `{username}{acNum}` order by timing desc limit 1\"\n",
    "    mycursor.execute(resultBalance)\n",
    "    retriveBalance = mycursor.fetchone()\n",
    "    currentBalance = retriveBalance[0]\n",
    "    # print(currentBalance)\n",
    "    # print(type(balance))\n",
    "    balance = currentBalance+credit\n",
    "    message = f\"{credit}rupees Credited Successfully\"\n",
    "    query = f\"insert into `{username}{acNum}` (accountnumber,credit,debit,balance,message) values({acNum},{credit},0,{balance},'{message}')\"\n",
    "    mycursor.execute(query)\n",
    "    mycursor.execute(resultBalance)\n",
    "    retriveBalance = mycursor.fetchone()\n",
    "    currentBalance = retriveBalance[0]\n",
    "    print(f\"Your Total Balance is {currentBalance}.\")\n",
    "    conn.commit()"
   ]
  },
  {
   "cell_type": "code",
   "execution_count": 25,
   "id": "8da52267-57da-42be-9042-b5b10a34b4f5",
   "metadata": {},
   "outputs": [],
   "source": [
    "def loginDebit(username,acNum,conn,mycursor):\n",
    "    debit = float(input(\"Enter Money You Want To Debit : \"))\n",
    "    resultBalance = f\"select balance from `{username}{acNum}` order by timing desc limit 1\"\n",
    "    mycursor.execute(resultBalance)\n",
    "    retriveBalance = mycursor.fetchone()\n",
    "    currentBalance = retriveBalance[0]\n",
    "    if currentBalance >= debit:\n",
    "        # print(currentBalance)\n",
    "        # print(type(balance))\n",
    "        balance = currentBalance-debit\n",
    "        message = f\"{debit}rupees Debited Successfully\"\n",
    "        query = f\"insert into `{username}{acNum}` (accountnumber,credit,debit,balance,message) values({acNum},0,{debit},{balance},'{message}')\"\n",
    "        mycursor.execute(query)\n",
    "        mycursor.execute(resultBalance)\n",
    "        retriveBalance = mycursor.fetchone()\n",
    "        currentBalance = retriveBalance[0]\n",
    "        print(f\"Your Total Balance is {currentBalance}.\")\n",
    "        conn.commit()\n",
    "    else:print(\"Not Enough Money In Your Account\")"
   ]
  },
  {
   "cell_type": "code",
   "execution_count": 26,
   "id": "2f9ea4e9-b536-40b3-b6a7-d8f7289fec3c",
   "metadata": {},
   "outputs": [],
   "source": [
    "def loginTransaction(username,acNum,conn,mycursor):\n",
    "    query = f\"select * from `{username}{acNum}`\"\n",
    "    mycursor.execute(query)\n",
    "    allData = mycursor.fetchall()\n",
    "    import pandas as pd\n",
    "    # import datatime\n",
    "    df = pd.DataFrame(allData, columns=['Account', 'Credit', 'Debit', 'Balance','Message','Date And Time'])\n",
    "    print(\"\\n\" + df.to_string(index=False, col_space=15))\n",
    "    # for i in allData:\n",
    "    #     print(i)"
   ]
  },
  {
   "cell_type": "code",
   "execution_count": 27,
   "id": "2077d54d-f0cf-444f-947a-ac27b2478a5b",
   "metadata": {},
   "outputs": [],
   "source": [
    "# transfer money\n",
    "def loginTransferMoney(username,acNum,conn,mycursor):\n",
    "    tAcNum = input(\"Enter Account Number Where You Want To Transfer Money : \")\n",
    "    checkReport = checkAccountAvailablity(int(tAcNum))\n",
    "    if checkReport != False:\n",
    "        \n",
    "        if acNum == int(tAcNum):\n",
    "            print(\"You Don't Transfer Money Own Account\")\n",
    "        elif acNum != tAcNum:\n",
    "            queryToGetName = f\"select username from userdetails where accountnumber={tAcNum};\"\n",
    "            mycursor.execute(queryToGetName)\n",
    "            tName = mycursor.fetchone()\n",
    "            # print(tName[0])\n",
    "            credit = float(input(\"Enter Amount to Transfer : \"))\n",
    "            resultBalance = f\"select balance from `{tName[0]}{tAcNum}` order by timing desc limit 1\"\n",
    "            mycursor.execute(resultBalance)\n",
    "            retriveBalance = mycursor.fetchone()\n",
    "            currentBalance = retriveBalance[0]\n",
    "            balance = currentBalance+credit\n",
    "            messageForCredit = f\"Money Recived from {acNum}.\"\n",
    "            queryToCredit = f\"insert into `{tName[0]}{tAcNum}` (accountnumber,credit,debit,balance,message) values({tAcNum},{credit},0,{balance},'{messageForCredit}')\"\n",
    "            \n",
    "            \n",
    "            debit = credit\n",
    "            resultBalanceForDebit = f\"select balance from `{username}{acNum}` order by timing desc limit 1\"\n",
    "            mycursor.execute(resultBalanceForDebit)\n",
    "            retriveBalanceForDebit = mycursor.fetchone()\n",
    "            currentBalanceForDebit = retriveBalanceForDebit[0]\n",
    "            if currentBalanceForDebit >= debit:\n",
    "                \n",
    "                balanceForDebit = currentBalanceForDebit-debit\n",
    "                messageForDebit = f\"Moeny Transfered To {tAcNum}\"\n",
    "                queryForDebit = f\"insert into `{username}{acNum}` (accountnumber,credit,debit,balance,message) values({acNum},0,{debit},{balanceForDebit},'{messageForDebit}')\"\n",
    "                mycursor.execute(queryForDebit)\n",
    "                mycursor.execute(resultBalanceForDebit)\n",
    "                retriveBalanceForDebit = mycursor.fetchone()\n",
    "                currentBalanceForDebit = retriveBalanceForDebit[0]\n",
    "                print(f\"You Transfer {credit}. Your Total Balance is {currentBalanceForDebit}.\")\n",
    "                mycursor.execute(queryToCredit)\n",
    "                conn.commit()\n",
    "            else:print(\"Not Enough Money In Your Account\")"
   ]
  },
  {
   "cell_type": "code",
   "execution_count": 28,
   "id": "619f21a9-5bf9-47f8-8f3f-f766776f32db",
   "metadata": {},
   "outputs": [],
   "source": [
    "def checkAccountAvailablity(checkAcNum):\n",
    "    # userInputForAccountNumber = int(input(\"Enter Account Number : \")) \n",
    "    userInputForAccountNumber = checkAcNum\n",
    "    import pymysql as ms\n",
    "    conn = ms.connect(host=\"localhost\",user=\"root\",password=\"\",database=\"bankuserdetails\")\n",
    "    query = \"select accountnumber from userdetails\"\n",
    "    mycursor = conn.cursor()\n",
    "    mycursor.execute(query)\n",
    "    acNumbers = mycursor.fetchall()\n",
    "    isAvaiable=False\n",
    "    for i in acNumbers:\n",
    "        if userInputForAccountNumber==i[0]:\n",
    "            print(i[0])\n",
    "            isAvaiable = True\n",
    "    if isAvaiable==False:\n",
    "        print(\"You Need To Create Account,Account Not Found!\")\n",
    "        return False\n",
    "# checkAccountAvailablity()\n",
    "\n",
    "    \n",
    "            \n",
    "            "
   ]
  },
  {
   "cell_type": "code",
   "execution_count": 29,
   "id": "5c824bc4-0a47-4410-a315-83ededeae018",
   "metadata": {},
   "outputs": [],
   "source": [
    "def main():\n",
    "    while True:\n",
    "        ch = int(input(\"\"\"Welcome What you want to do:-\n",
    "        1. Create Account\n",
    "        2. login\n",
    "        3. Forget Account Number\n",
    "        4. Forget Pin\n",
    "        5. exit\n",
    "        choose One :\n",
    "        \"\"\"))\n",
    "        if ch == 1: accountCreation()\n",
    "        elif ch == 2: login()\n",
    "        elif ch == 3: forgetAc()\n",
    "        elif ch == 4: forgetPin()\n",
    "        elif ch == 5: break\n",
    "    print(\"Thank You\")"
   ]
  },
  {
   "cell_type": "code",
   "execution_count": null,
   "id": "da78aa75-e2e4-4fc8-bfb7-b552c472e946",
   "metadata": {},
   "outputs": [
    {
     "name": "stdin",
     "output_type": "stream",
     "text": [
      "Welcome What you want to do:-\n",
      "        1. Create Account\n",
      "        2. login\n",
      "        3. Forget Account Number\n",
      "        4. Forget Pin\n",
      "        5. exit\n",
      "        choose One :\n",
      "         2\n",
      "Enter Your Account Number :  65555\n"
     ]
    },
    {
     "name": "stdout",
     "output_type": "stream",
     "text": [
      "You Need To Create Account,Account Not Found!\n"
     ]
    },
    {
     "name": "stdin",
     "output_type": "stream",
     "text": [
      "Welcome What you want to do:-\n",
      "        1. Create Account\n",
      "        2. login\n",
      "        3. Forget Account Number\n",
      "        4. Forget Pin\n",
      "        5. exit\n",
      "        choose One :\n",
      "         2\n",
      "Enter Your Account Number :  36108\n"
     ]
    },
    {
     "name": "stdout",
     "output_type": "stream",
     "text": [
      "36108\n"
     ]
    },
    {
     "name": "stdin",
     "output_type": "stream",
     "text": [
      "Enter Your Pin 5555\n"
     ]
    },
    {
     "name": "stdout",
     "output_type": "stream",
     "text": [
      "\n",
      "--------------Login Successfully----------------\n",
      "\n",
      "        1. Credit Money\n",
      "        2. Debit Money\n",
      "        3. Check Balance\n",
      "        4. Transfer Money\n",
      "        5. Show Transaction\n",
      "        6. exit\n"
     ]
    },
    {
     "name": "stdin",
     "output_type": "stream",
     "text": [
      "Enter Value :  5\n"
     ]
    },
    {
     "name": "stdout",
     "output_type": "stream",
     "text": [
      "\n",
      "        Account          Credit           Debit         Balance                            Message       Date And Time\n",
      "          36108             0.0             0.0             0.0       Account Created Successfully 2025-05-29 10:44:03\n",
      "          36108             5.0             0.0             5.0    5.0rupees Credited Successfully 2025-05-29 10:47:28\n",
      "          36108             0.0             5.0             0.0     5.0rupees Debited Successfully 2025-05-29 10:47:32\n",
      "          36108           200.0             0.0           200.0          Money Recived from 77701. 2025-05-29 11:11:39\n",
      "          36108          1000.0             0.0          1200.0 1000.0rupees Credited Successfully 2025-05-29 13:46:44\n",
      "          36108             0.0           500.0           700.0          Moeny Transfered To 36837 2025-05-29 13:47:05\n",
      "          36108           100.0             0.0           800.0          Money Recived from 67908. 2025-05-30 11:04:51\n",
      "          36108           500.0             0.0          1300.0  500.0rupees Credited Successfully 2025-05-30 11:06:51\n",
      "          36108             0.0           500.0           800.0   500.0rupees Debited Successfully 2025-05-30 11:07:09\n",
      "\n",
      "        1. Credit Money\n",
      "        2. Debit Money\n",
      "        3. Check Balance\n",
      "        4. Transfer Money\n",
      "        5. Show Transaction\n",
      "        6. exit\n"
     ]
    },
    {
     "name": "stdin",
     "output_type": "stream",
     "text": [
      "Enter Value :  3\n"
     ]
    },
    {
     "name": "stdout",
     "output_type": "stream",
     "text": [
      "You Have 800.0Rupees.\n",
      "\n",
      "        1. Credit Money\n",
      "        2. Debit Money\n",
      "        3. Check Balance\n",
      "        4. Transfer Money\n",
      "        5. Show Transaction\n",
      "        6. exit\n"
     ]
    },
    {
     "name": "stdin",
     "output_type": "stream",
     "text": [
      "Enter Value :  6\n"
     ]
    }
   ],
   "source": [
    "main()"
   ]
  },
  {
   "cell_type": "code",
   "execution_count": null,
   "id": "4d2a5fd5-0f34-4eff-a117-45170f274b17",
   "metadata": {},
   "outputs": [],
   "source": []
  }
 ],
 "metadata": {
  "kernelspec": {
   "display_name": "Python [conda env:base] *",
   "language": "python",
   "name": "conda-base-py"
  },
  "language_info": {
   "codemirror_mode": {
    "name": "ipython",
    "version": 3
   },
   "file_extension": ".py",
   "mimetype": "text/x-python",
   "name": "python",
   "nbconvert_exporter": "python",
   "pygments_lexer": "ipython3",
   "version": "3.12.7"
  }
 },
 "nbformat": 4,
 "nbformat_minor": 5
}
